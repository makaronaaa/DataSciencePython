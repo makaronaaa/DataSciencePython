{
  "nbformat": 4,
  "nbformat_minor": 0,
  "metadata": {
    "colab": {
      "provenance": [],
      "authorship_tag": "ABX9TyOxzR600tJcykcwLBvIk3ym",
      "include_colab_link": true
    },
    "kernelspec": {
      "name": "python3",
      "display_name": "Python 3"
    },
    "language_info": {
      "name": "python"
    }
  },
  "cells": [
    {
      "cell_type": "markdown",
      "metadata": {
        "id": "view-in-github",
        "colab_type": "text"
      },
      "source": [
        "<a href=\"https://colab.research.google.com/github/makaronaaa/DataSciencePython/blob/main/KNN_Stocks.ipynb\" target=\"_parent\"><img src=\"https://colab.research.google.com/assets/colab-badge.svg\" alt=\"Open In Colab\"/></a>"
      ]
    },
    {
      "cell_type": "code",
      "execution_count": 29,
      "metadata": {
        "colab": {
          "base_uri": "https://localhost:8080/",
          "height": 424
        },
        "id": "MGjIWYC85xUW",
        "outputId": "a0283941-a9e4-435f-9944-bb52e7f22eae"
      },
      "outputs": [
        {
          "output_type": "execute_result",
          "data": {
            "text/plain": [
              "     Year  Week_Number  mean_return  volatility  label\n",
              "0    2020            1     -0.77360    1.874892    red\n",
              "1    2020            2      0.12240    1.644458  green\n",
              "2    2020            3      1.04625    1.093152  green\n",
              "3    2020            4     -0.18800    1.981426    red\n",
              "4    2020            5     -0.35180    1.341252    red\n",
              "..    ...          ...          ...         ...    ...\n",
              "99   2021           48     -0.98360    1.341614    red\n",
              "100  2021           49     -0.28920    1.481579    red\n",
              "101  2021           50      0.50560    2.269345  green\n",
              "102  2021           51      0.24450    0.447162  green\n",
              "103  2021           52      0.34175    1.361570  green\n",
              "\n",
              "[104 rows x 5 columns]"
            ],
            "text/html": [
              "\n",
              "  <div id=\"df-f0c30b39-9a6d-428e-9f69-ffa621f1da84\">\n",
              "    <div class=\"colab-df-container\">\n",
              "      <div>\n",
              "<style scoped>\n",
              "    .dataframe tbody tr th:only-of-type {\n",
              "        vertical-align: middle;\n",
              "    }\n",
              "\n",
              "    .dataframe tbody tr th {\n",
              "        vertical-align: top;\n",
              "    }\n",
              "\n",
              "    .dataframe thead th {\n",
              "        text-align: right;\n",
              "    }\n",
              "</style>\n",
              "<table border=\"1\" class=\"dataframe\">\n",
              "  <thead>\n",
              "    <tr style=\"text-align: right;\">\n",
              "      <th></th>\n",
              "      <th>Year</th>\n",
              "      <th>Week_Number</th>\n",
              "      <th>mean_return</th>\n",
              "      <th>volatility</th>\n",
              "      <th>label</th>\n",
              "    </tr>\n",
              "  </thead>\n",
              "  <tbody>\n",
              "    <tr>\n",
              "      <th>0</th>\n",
              "      <td>2020</td>\n",
              "      <td>1</td>\n",
              "      <td>-0.77360</td>\n",
              "      <td>1.874892</td>\n",
              "      <td>red</td>\n",
              "    </tr>\n",
              "    <tr>\n",
              "      <th>1</th>\n",
              "      <td>2020</td>\n",
              "      <td>2</td>\n",
              "      <td>0.12240</td>\n",
              "      <td>1.644458</td>\n",
              "      <td>green</td>\n",
              "    </tr>\n",
              "    <tr>\n",
              "      <th>2</th>\n",
              "      <td>2020</td>\n",
              "      <td>3</td>\n",
              "      <td>1.04625</td>\n",
              "      <td>1.093152</td>\n",
              "      <td>green</td>\n",
              "    </tr>\n",
              "    <tr>\n",
              "      <th>3</th>\n",
              "      <td>2020</td>\n",
              "      <td>4</td>\n",
              "      <td>-0.18800</td>\n",
              "      <td>1.981426</td>\n",
              "      <td>red</td>\n",
              "    </tr>\n",
              "    <tr>\n",
              "      <th>4</th>\n",
              "      <td>2020</td>\n",
              "      <td>5</td>\n",
              "      <td>-0.35180</td>\n",
              "      <td>1.341252</td>\n",
              "      <td>red</td>\n",
              "    </tr>\n",
              "    <tr>\n",
              "      <th>...</th>\n",
              "      <td>...</td>\n",
              "      <td>...</td>\n",
              "      <td>...</td>\n",
              "      <td>...</td>\n",
              "      <td>...</td>\n",
              "    </tr>\n",
              "    <tr>\n",
              "      <th>99</th>\n",
              "      <td>2021</td>\n",
              "      <td>48</td>\n",
              "      <td>-0.98360</td>\n",
              "      <td>1.341614</td>\n",
              "      <td>red</td>\n",
              "    </tr>\n",
              "    <tr>\n",
              "      <th>100</th>\n",
              "      <td>2021</td>\n",
              "      <td>49</td>\n",
              "      <td>-0.28920</td>\n",
              "      <td>1.481579</td>\n",
              "      <td>red</td>\n",
              "    </tr>\n",
              "    <tr>\n",
              "      <th>101</th>\n",
              "      <td>2021</td>\n",
              "      <td>50</td>\n",
              "      <td>0.50560</td>\n",
              "      <td>2.269345</td>\n",
              "      <td>green</td>\n",
              "    </tr>\n",
              "    <tr>\n",
              "      <th>102</th>\n",
              "      <td>2021</td>\n",
              "      <td>51</td>\n",
              "      <td>0.24450</td>\n",
              "      <td>0.447162</td>\n",
              "      <td>green</td>\n",
              "    </tr>\n",
              "    <tr>\n",
              "      <th>103</th>\n",
              "      <td>2021</td>\n",
              "      <td>52</td>\n",
              "      <td>0.34175</td>\n",
              "      <td>1.361570</td>\n",
              "      <td>green</td>\n",
              "    </tr>\n",
              "  </tbody>\n",
              "</table>\n",
              "<p>104 rows × 5 columns</p>\n",
              "</div>\n",
              "      <button class=\"colab-df-convert\" onclick=\"convertToInteractive('df-f0c30b39-9a6d-428e-9f69-ffa621f1da84')\"\n",
              "              title=\"Convert this dataframe to an interactive table.\"\n",
              "              style=\"display:none;\">\n",
              "        \n",
              "  <svg xmlns=\"http://www.w3.org/2000/svg\" height=\"24px\"viewBox=\"0 0 24 24\"\n",
              "       width=\"24px\">\n",
              "    <path d=\"M0 0h24v24H0V0z\" fill=\"none\"/>\n",
              "    <path d=\"M18.56 5.44l.94 2.06.94-2.06 2.06-.94-2.06-.94-.94-2.06-.94 2.06-2.06.94zm-11 1L8.5 8.5l.94-2.06 2.06-.94-2.06-.94L8.5 2.5l-.94 2.06-2.06.94zm10 10l.94 2.06.94-2.06 2.06-.94-2.06-.94-.94-2.06-.94 2.06-2.06.94z\"/><path d=\"M17.41 7.96l-1.37-1.37c-.4-.4-.92-.59-1.43-.59-.52 0-1.04.2-1.43.59L10.3 9.45l-7.72 7.72c-.78.78-.78 2.05 0 2.83L4 21.41c.39.39.9.59 1.41.59.51 0 1.02-.2 1.41-.59l7.78-7.78 2.81-2.81c.8-.78.8-2.07 0-2.86zM5.41 20L4 18.59l7.72-7.72 1.47 1.35L5.41 20z\"/>\n",
              "  </svg>\n",
              "      </button>\n",
              "      \n",
              "  <style>\n",
              "    .colab-df-container {\n",
              "      display:flex;\n",
              "      flex-wrap:wrap;\n",
              "      gap: 12px;\n",
              "    }\n",
              "\n",
              "    .colab-df-convert {\n",
              "      background-color: #E8F0FE;\n",
              "      border: none;\n",
              "      border-radius: 50%;\n",
              "      cursor: pointer;\n",
              "      display: none;\n",
              "      fill: #1967D2;\n",
              "      height: 32px;\n",
              "      padding: 0 0 0 0;\n",
              "      width: 32px;\n",
              "    }\n",
              "\n",
              "    .colab-df-convert:hover {\n",
              "      background-color: #E2EBFA;\n",
              "      box-shadow: 0px 1px 2px rgba(60, 64, 67, 0.3), 0px 1px 3px 1px rgba(60, 64, 67, 0.15);\n",
              "      fill: #174EA6;\n",
              "    }\n",
              "\n",
              "    [theme=dark] .colab-df-convert {\n",
              "      background-color: #3B4455;\n",
              "      fill: #D2E3FC;\n",
              "    }\n",
              "\n",
              "    [theme=dark] .colab-df-convert:hover {\n",
              "      background-color: #434B5C;\n",
              "      box-shadow: 0px 1px 3px 1px rgba(0, 0, 0, 0.15);\n",
              "      filter: drop-shadow(0px 1px 2px rgba(0, 0, 0, 0.3));\n",
              "      fill: #FFFFFF;\n",
              "    }\n",
              "  </style>\n",
              "\n",
              "      <script>\n",
              "        const buttonEl =\n",
              "          document.querySelector('#df-f0c30b39-9a6d-428e-9f69-ffa621f1da84 button.colab-df-convert');\n",
              "        buttonEl.style.display =\n",
              "          google.colab.kernel.accessAllowed ? 'block' : 'none';\n",
              "\n",
              "        async function convertToInteractive(key) {\n",
              "          const element = document.querySelector('#df-f0c30b39-9a6d-428e-9f69-ffa621f1da84');\n",
              "          const dataTable =\n",
              "            await google.colab.kernel.invokeFunction('convertToInteractive',\n",
              "                                                     [key], {});\n",
              "          if (!dataTable) return;\n",
              "\n",
              "          const docLinkHtml = 'Like what you see? Visit the ' +\n",
              "            '<a target=\"_blank\" href=https://colab.research.google.com/notebooks/data_table.ipynb>data table notebook</a>'\n",
              "            + ' to learn more about interactive tables.';\n",
              "          element.innerHTML = '';\n",
              "          dataTable['output_type'] = 'display_data';\n",
              "          await google.colab.output.renderOutput(dataTable, element);\n",
              "          const docLink = document.createElement('div');\n",
              "          docLink.innerHTML = docLinkHtml;\n",
              "          element.appendChild(docLink);\n",
              "        }\n",
              "      </script>\n",
              "    </div>\n",
              "  </div>\n",
              "  "
            ]
          },
          "metadata": {},
          "execution_count": 29
        }
      ],
      "source": [
        "import pandas as pd\n",
        "import numpy as np\n",
        "import matplotlib.pyplot as plt\n",
        "import matplotlib\n",
        "from sklearn.preprocessing import StandardScaler \n",
        "from sklearn.neighbors import KNeighborsClassifier\n",
        "from sklearn.neighbors import KNeighborsRegressor\n",
        "from sklearn.model_selection import train_test_split\n",
        "from sklearn.metrics import confusion_matrix\n",
        "import seaborn as sb\n",
        "df=pd.read_csv('/content/sample_data/GOLD_weekly_return_volatility_labeled.csv')\n",
        "df"
      ]
    },
    {
      "cell_type": "markdown",
      "source": [
        "Implement k-NN classifier For each week, your feature set is\n",
        "(μ, σ) for that week. Use your labels (you will have 52 labels\n",
        "per year for each week) from year 1 to train your classifier and\n",
        "predict labels for year 2.\n",
        "\n",
        "take k = 3, 5, 7, 9, 11. For each value of k compute the\n",
        "accuracy of your k-NN classifier on year 1 data. On x axis\n",
        "you plot k and on y-axis you plot accuracy. What is the\n",
        "optimal value of k for year 1?"
      ],
      "metadata": {
        "id": "lAitqY4P7Czq"
      }
    },
    {
      "cell_type": "code",
      "source": [
        "K_values=[3, 5, 7, 9, 11]\n",
        "accuracy=[]\n",
        "\n",
        "#accuracy mean of equal\n",
        "for k in K_values:\n",
        "  X = df[[\"mean_return\",\"volatility\"]][df[\"Year\"]==2020].values\n",
        "  Y = df[[\"label\"]][df[\"Year\"]==2020].values\n",
        "  X_train,X_test,Y_train,Y_test=train_test_split(X,Y,test_size=0.5)\n",
        "  \n",
        "  scaler = StandardScaler()\n",
        "  scaler.fit(X_train)\n",
        "  X_train = scaler.transform(X_train)\n",
        "  X_test = scaler.transform(X_test)\n",
        "\n",
        "  knn_classifier = KNeighborsClassifier(n_neighbors=k)\n",
        "  knn_classifier.fit(X_train ,Y_train)\n",
        "  prediction = knn_classifier.predict(X_test)\n",
        "  cm = confusion_matrix(Y_test, prediction)\n",
        "  accur=(cm[0][0] + cm[1][1]) / (cm[0][0] + cm[1][1] + cm[1][0] + cm[0][1])\n",
        "  accuracy.append(accur) #append all values in the list for plotting\n",
        "accuracy"
      ],
      "metadata": {
        "colab": {
          "base_uri": "https://localhost:8080/"
        },
        "id": "jCH1Ojf17BG-",
        "outputId": "ef56920a-9881-4ba5-f0a8-bd96c352ff32"
      },
      "execution_count": 15,
      "outputs": [
        {
          "output_type": "stream",
          "name": "stderr",
          "text": [
            "/usr/local/lib/python3.7/dist-packages/sklearn/neighbors/_classification.py:198: DataConversionWarning: A column-vector y was passed when a 1d array was expected. Please change the shape of y to (n_samples,), for example using ravel().\n",
            "  return self._fit(X, y)\n",
            "/usr/local/lib/python3.7/dist-packages/sklearn/neighbors/_classification.py:198: DataConversionWarning: A column-vector y was passed when a 1d array was expected. Please change the shape of y to (n_samples,), for example using ravel().\n",
            "  return self._fit(X, y)\n",
            "/usr/local/lib/python3.7/dist-packages/sklearn/neighbors/_classification.py:198: DataConversionWarning: A column-vector y was passed when a 1d array was expected. Please change the shape of y to (n_samples,), for example using ravel().\n",
            "  return self._fit(X, y)\n",
            "/usr/local/lib/python3.7/dist-packages/sklearn/neighbors/_classification.py:198: DataConversionWarning: A column-vector y was passed when a 1d array was expected. Please change the shape of y to (n_samples,), for example using ravel().\n",
            "  return self._fit(X, y)\n",
            "/usr/local/lib/python3.7/dist-packages/sklearn/neighbors/_classification.py:198: DataConversionWarning: A column-vector y was passed when a 1d array was expected. Please change the shape of y to (n_samples,), for example using ravel().\n",
            "  return self._fit(X, y)\n"
          ]
        },
        {
          "output_type": "execute_result",
          "data": {
            "text/plain": [
              "[0.6153846153846154,\n",
              " 0.5384615384615384,\n",
              " 0.6538461538461539,\n",
              " 0.46153846153846156,\n",
              " 0.6538461538461539]"
            ]
          },
          "metadata": {},
          "execution_count": 15
        }
      ]
    },
    {
      "cell_type": "markdown",
      "source": [
        "use the optimal value of k from year 1 to predict labels for\n",
        "year 2. What is your accuracy?"
      ],
      "metadata": {
        "id": "jU8pCdFn_nR1"
      }
    },
    {
      "cell_type": "code",
      "source": [
        "plt.plot(K_values, accuracy)\n",
        "plt.xlabel('K Values')\n",
        "plt.ylabel('Prediction Accuracy')\n",
        "K_optimum = K_values[pd.Series(accuracy).idxmax()]\n",
        "print(\"Optimum value k* of k: \", K_optimum)"
      ],
      "metadata": {
        "colab": {
          "base_uri": "https://localhost:8080/",
          "height": 296
        },
        "id": "7GAcU7Ma_pAB",
        "outputId": "c380c02f-0d1e-4b61-acc0-d9f86e2dc8cf"
      },
      "execution_count": 16,
      "outputs": [
        {
          "output_type": "stream",
          "name": "stdout",
          "text": [
            "Optimum value k* of k:  7\n"
          ]
        },
        {
          "output_type": "display_data",
          "data": {
            "text/plain": [
              "<Figure size 432x288 with 1 Axes>"
            ],
            "image/png": "[encoded data removed]"
          },
          "metadata": {
            "needs_background": "light"
          }
        }
      ]
    },
    {
      "cell_type": "markdown",
      "source": [
        "using the optimal value for k from year 1, compute the\n",
        "confusion matrix for year 2"
      ],
      "metadata": {
        "id": "TUbjvhTMAEGP"
      }
    },
    {
      "cell_type": "code",
      "source": [
        "df2 = df[df[\"Year\"]==2021].reset_index(drop=True)\n",
        "X = df2[[\"mean_return\",\"volatility\"]]\n",
        "Y = df2[[\"label\"]]\n",
        "scaler = StandardScaler()\n",
        "scaler.fit(X)\n",
        "X = scaler.transform(X)\n",
        "\n",
        "knn_classifier = KNeighborsClassifier(n_neighbors= K_optimum)\n",
        "knn_classifier.fit(X,Y)\n",
        "prediction = knn_classifier.predict(X)\n",
        "df2['predicted']= prediction\n",
        "\n",
        "cm = confusion_matrix(Y, prediction)\n",
        "accur=(cm[0][0] + cm[1][1]) / (cm[0][0] + cm[1][1] + cm[1][0] + cm[0][1])\n",
        "accuracy.append(accur) #append all values in the list for plotting\n",
        "accuracy"
      ],
      "metadata": {
        "colab": {
          "base_uri": "https://localhost:8080/"
        },
        "id": "eZpkYUH_AH1z",
        "outputId": "bce3c7be-ebaa-438a-e70b-e29afe46ec9a"
      },
      "execution_count": 37,
      "outputs": [
        {
          "output_type": "stream",
          "name": "stderr",
          "text": [
            "/usr/local/lib/python3.7/dist-packages/sklearn/neighbors/_classification.py:198: DataConversionWarning: A column-vector y was passed when a 1d array was expected. Please change the shape of y to (n_samples,), for example using ravel().\n",
            "  return self._fit(X, y)\n"
          ]
        },
        {
          "output_type": "execute_result",
          "data": {
            "text/plain": [
              "[0.6153846153846154,\n",
              " 0.5384615384615384,\n",
              " 0.6538461538461539,\n",
              " 0.46153846153846156,\n",
              " 0.6538461538461539,\n",
              " 0.9615384615384616]"
            ]
          },
          "metadata": {},
          "execution_count": 37
        }
      ]
    },
    {
      "cell_type": "markdown",
      "source": [
        "using the optimal value for k from year 1, compute the\n",
        "confusion matrix for year 2.\n",
        "what is true positive rate (sensitivity or recall) and true\n",
        "negative rate (specificity) for year 2?"
      ],
      "metadata": {
        "id": "QBEeSCGdIu8m"
      }
    },
    {
      "cell_type": "code",
      "source": [
        "X = df[[\"mean_return\",\"volatility\"]][df[\"Year\"]==2020].values\n",
        "Y = df[[\"label\"]][df[\"Year\"]==2020].values\n",
        "\n",
        "scaler = StandardScaler()\n",
        "scaler.fit(X)\n",
        "X = scaler.transform(X)\n",
        "\n",
        "knn_classifier = KNeighborsClassifier(n_neighbors= K_optimum)\n",
        "knn_classifier.fit(X,Y)\n",
        "prediction = knn_classifier.predict(X)\n",
        "\n",
        "cf = confusion_matrix(Y , prediction)\n",
        "print(\"confusion matrix: considering green is + \\n\",  cf)   \n",
        "tp = cf[0][0]\n",
        "fn = cf[0][1]\n",
        "fp = cf[1][0]\n",
        "tn = cf[1][1]\n",
        "print(\"TP=\", tp,\"    FP=\",  fp,\"    FN=\",  fn,\"   TN=\",  tn)\n",
        "\n",
        "tpr = tp / (tp + fn)\n",
        "tnr = tn / (tn + fp)\n",
        "acc = (tp + tn) / (tp + tn + fp + fn)\n",
        "print(\"TPR=\", tpr, \"    TNR=\", tnr, \"    ACC=\", acc)"
      ],
      "metadata": {
        "colab": {
          "base_uri": "https://localhost:8080/"
        },
        "id": "-Lo4SCJzIyS5",
        "outputId": "87d7c0ca-1031-4268-bf1f-285ffdfb09ab"
      },
      "execution_count": 41,
      "outputs": [
        {
          "output_type": "stream",
          "name": "stdout",
          "text": [
            "confusion matrix: considering green is + \n",
            " [[22  6]\n",
            " [ 7 17]]\n",
            "TP= 22     FP= 7     FN= 6    TN= 17\n",
            "TPR= 0.7857142857142857     TNR= 0.7083333333333334     ACC= 0.75\n"
          ]
        },
        {
          "output_type": "stream",
          "name": "stderr",
          "text": [
            "/usr/local/lib/python3.7/dist-packages/sklearn/neighbors/_classification.py:198: DataConversionWarning: A column-vector y was passed when a 1d array was expected. Please change the shape of y to (n_samples,), for example using ravel().\n",
            "  return self._fit(X, y)\n"
          ]
        }
      ]
    },
    {
      "cell_type": "markdown",
      "source": [
        "implement a trading strategy based on your labels for year\n",
        "2 and compare the performance with the ”buy-and-hold”\n",
        "strategy. Which strategy results in a larger amount at the\n",
        "end of the year?"
      ],
      "metadata": {
        "id": "bcmIsbNJLt4B"
      }
    },
    {
      "cell_type": "code",
      "source": [
        "#label trading\n",
        "value = 100\n",
        "for i in range(len(df2)):\n",
        "    if df2['predicted'][i] == 'green':\n",
        "        value = value*(100 + df2['mean_return'][i])/100\n",
        "        \n",
        "print(\"Final value after trading by predicted labels- y2: \", value)    \n",
        "print(\"annual return = \", round((value-100), 2), '%')\n",
        "\n",
        "#buy-hold\n",
        "## BUY AND HOLD STRATEGY\n",
        "value = 100\n",
        "for i in range(len(df2)):\n",
        "    value = value*(100 + df2['mean_return'][i])/100\n",
        "        \n",
        "print(\"Final value for y2: \", value)    \n",
        "print(\"annual return = \", round((value-100), 2), '%')"
      ],
      "metadata": {
        "colab": {
          "base_uri": "https://localhost:8080/"
        },
        "id": "6TcOfCZoLxTu",
        "outputId": "af03e60d-41f1-4af3-fc49-fb2303b3a49a"
      },
      "execution_count": 46,
      "outputs": [
        {
          "output_type": "stream",
          "name": "stdout",
          "text": [
            "Final value after trading by predicted labels- y2:  118.65379023253057\n",
            "annual return =  18.65 %\n",
            "Final value for y2:  96.84881395166886\n",
            "annual return =  -3.15 %\n"
          ]
        }
      ]
    }
  ]
}
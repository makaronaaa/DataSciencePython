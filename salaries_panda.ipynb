{
  "nbformat": 4,
  "nbformat_minor": 0,
  "metadata": {
    "colab": {
      "provenance": [],
      "authorship_tag": "ABX9TyOURL2rWQAn/XWJdK2zMAlo",
      "include_colab_link": true
    },
    "kernelspec": {
      "name": "python3",
      "display_name": "Python 3"
    },
    "language_info": {
      "name": "python"
    }
  },
  "cells": [
    {
      "cell_type": "markdown",
      "metadata": {
        "id": "view-in-github",
        "colab_type": "text"
      },
      "source": [
        "<a href=\"https://colab.research.google.com/github/makaronaaa/NLP/blob/main/salaries_panda.ipynb\" target=\"_parent\"><img src=\"https://colab.research.google.com/assets/colab-badge.svg\" alt=\"Open In Colab\"/></a>"
      ]
    },
    {
      "cell_type": "code",
      "execution_count": null,
      "metadata": {
        "colab": {
          "base_uri": "https://localhost:8080/"
        },
        "id": "BdLQw2kTwo1x",
        "outputId": "8e387b6c-d746-4bdb-823e-b6c718a3880d"
      },
      "outputs": [
        {
          "output_type": "stream",
          "name": "stdout",
          "text": [
            "     Unnamed: 0  work_year experience_level employment_type  \\\n",
            "0             0       2020               MI              FT   \n",
            "1             1       2020               SE              FT   \n",
            "2             2       2020               SE              FT   \n",
            "3             3       2020               MI              FT   \n",
            "4             4       2020               SE              FT   \n",
            "..          ...        ...              ...             ...   \n",
            "602         602       2022               SE              FT   \n",
            "603         603       2022               SE              FT   \n",
            "604         604       2022               SE              FT   \n",
            "605         605       2022               SE              FT   \n",
            "606         606       2022               MI              FT   \n",
            "\n",
            "                      job_title  salary salary_currency  salary_in_usd  \\\n",
            "0                Data Scientist   70000             EUR          79833   \n",
            "1    Machine Learning Scientist  260000             USD         260000   \n",
            "2             Big Data Engineer   85000             GBP         109024   \n",
            "3          Product Data Analyst   20000             USD          20000   \n",
            "4     Machine Learning Engineer  150000             USD         150000   \n",
            "..                          ...     ...             ...            ...   \n",
            "602               Data Engineer  154000             USD         154000   \n",
            "603               Data Engineer  126000             USD         126000   \n",
            "604                Data Analyst  129000             USD         129000   \n",
            "605                Data Analyst  150000             USD         150000   \n",
            "606                AI Scientist  200000             USD         200000   \n",
            "\n",
            "    employee_residence  remote_ratio company_location company_size  \n",
            "0                   DE             0               DE            L  \n",
            "1                   JP             0               JP            S  \n",
            "2                   GB            50               GB            M  \n",
            "3                   HN             0               HN            S  \n",
            "4                   US            50               US            L  \n",
            "..                 ...           ...              ...          ...  \n",
            "602                 US           100               US            M  \n",
            "603                 US           100               US            M  \n",
            "604                 US             0               US            M  \n",
            "605                 US           100               US            M  \n",
            "606                 IN           100               US            L  \n",
            "\n",
            "[607 rows x 12 columns]\n"
          ]
        }
      ],
      "source": [
        "# 1. load the dataset csv file using Pandas\n",
        "import pandas as pd\n",
        "import csv\n",
        "import numpy\n",
        "df=pd.read_csv(\"/content/sample_data/ds_salaries.csv\")\n",
        "print(df)"
      ]
    },
    {
      "cell_type": "code",
      "source": [
        "#compute average salary by year?\n",
        "df=pd.read_csv(\"/content/sample_data/ds_salaries.csv\")\n",
        "df1 = df[['salary','work_year']]\n",
        "avg = df1.groupby('work_year').mean()\n",
        "print(\"average salary by yearis = \", avg)\n"
      ],
      "metadata": {
        "id": "7BGHgj3Xw87X",
        "colab": {
          "base_uri": "https://localhost:8080/"
        },
        "outputId": "0b02e73c-423a-4ea2-e8ce-d33e17648f90"
      },
      "execution_count": 4,
      "outputs": [
        {
          "output_type": "stream",
          "name": "stdout",
          "text": [
            "average salary by yearis =                    salary\n",
            "work_year               \n",
            "2020       382386.236111\n",
            "2021       546677.387097\n",
            "2022       158827.786164\n"
          ]
        }
      ]
    },
    {
      "cell_type": "code",
      "source": [
        "#which year was the lowest and which year was the highest?\n",
        "# salary= df[\"salary\"]\n",
        "# highest = salary.max()\n",
        "# lowest = salary.min()\n",
        "# print(highest)\n",
        "# print(lowest)\n",
        "\n",
        "df1 = df[['salary','work_year']]\n",
        "highest1 = df1.max()\n",
        "lowest1 = df1.min()\n",
        "print(highest1)\n",
        "print(lowest1)"
      ],
      "metadata": {
        "id": "qSw_bYl-w5Ml",
        "colab": {
          "base_uri": "https://localhost:8080/"
        },
        "outputId": "e315b005-3167-49cd-a1f1-145205124d20"
      },
      "execution_count": 9,
      "outputs": [
        {
          "output_type": "stream",
          "name": "stdout",
          "text": [
            "salary       30400000\n",
            "work_year        2022\n",
            "dtype: int64\n",
            "salary       4000\n",
            "work_year    2020\n",
            "dtype: int64\n"
          ]
        }
      ]
    },
    {
      "cell_type": "code",
      "source": [
        "#for each experience level, compute the average salary (over 3 years) for each job title?\n",
        "df2 = df[['experience_level','salary','job_title']]\n",
        "#print(df2)\n",
        "avg = df2.groupby(['job_title', 'experience_level']).mean()\n",
        "print(avg)"
      ],
      "metadata": {
        "id": "jCLXYnoUBlnd",
        "outputId": "de98cc29-06a8-4015-aab1-3d539d3014ca",
        "colab": {
          "base_uri": "https://localhost:8080/"
        }
      },
      "execution_count": 22,
      "outputs": [
        {
          "output_type": "stream",
          "name": "stdout",
          "text": [
            "                                                       salary\n",
            "job_title                     experience_level               \n",
            "3D Computer Vision Researcher MI                400000.000000\n",
            "AI Scientist                  EN                414750.000000\n",
            "                              MI                160000.000000\n",
            "                              SE                 55000.000000\n",
            "Analytics Engineer            EX                155000.000000\n",
            "...                                                       ...\n",
            "Product Data Analyst          MI                235000.000000\n",
            "Research Scientist            EN                 80500.000000\n",
            "                              MI                142142.714286\n",
            "                              SE                 90180.000000\n",
            "Staff Data Scientist          SE                105000.000000\n",
            "\n",
            "[105 rows x 1 columns]\n"
          ]
        }
      ]
    },
    {
      "cell_type": "code",
      "source": [
        "#For which job title was it the minimum and maximum?\n",
        "df2 = df[['salary','job_title']]\n",
        "max = df2.max()\n",
        "min = df2.min()\n",
        "print(max)\n",
        "print(min)"
      ],
      "metadata": {
        "id": "tql7V8LqJyi3",
        "outputId": "38b13f74-faf1-4301-f51e-106532cf28d7",
        "colab": {
          "base_uri": "https://localhost:8080/"
        }
      },
      "execution_count": 24,
      "outputs": [
        {
          "output_type": "stream",
          "name": "stdout",
          "text": [
            "salary                   30400000\n",
            "job_title    Staff Data Scientist\n",
            "dtype: object\n",
            "salary                                4000\n",
            "job_title    3D Computer Vision Researcher\n",
            "dtype: object\n"
          ]
        }
      ]
    },
    {
      "cell_type": "code",
      "source": [
        "#for each year and job title compute the annual salary?\n",
        "df3 = df[['salary','work_year']]\n",
        "sum = df3.groupby(['work_year']).sum()\n",
        "print(sum)"
      ],
      "metadata": {
        "id": "oc2zGR5jKO_O",
        "outputId": "6f6f2123-3c80-48b1-866a-4b9ba0b996ea",
        "colab": {
          "base_uri": "https://localhost:8080/"
        }
      },
      "execution_count": 28,
      "outputs": [
        {
          "output_type": "stream",
          "name": "stdout",
          "text": [
            "              salary\n",
            "work_year           \n",
            "2020        27531809\n",
            "2021       118628993\n",
            "2022        50507236\n"
          ]
        }
      ]
    },
    {
      "cell_type": "code",
      "source": [
        "#which job title experienced the maximum change in salary?\n",
        "#Which job title had the minimum change.\n",
        "\n",
        "df2 = df[['salary','job_title']]\n",
        "#print(df2)\n",
        "min = df2.groupby(['job_title']).min()\n",
        "#print(min)\n",
        "max = df2.groupby(['job_title']).max()\n",
        "#print(max)\n",
        "df4 = df2.groupby(['job_title']).max()- df2.groupby(['job_title']).min()\n",
        "#print(df4)\n",
        "# 'diff = df2.groupby(['job_title']).diff()'\n",
        "#print(diff)\n",
        "max = df4.max()\n",
        "print(max)\n",
        "\n",
        "min = df4.min()\n",
        "print(min)\n"
      ],
      "metadata": {
        "id": "bMh54ClvLCSa",
        "outputId": "d2436d1e-8956-4c2a-cdb5-0aa109bcc74d",
        "colab": {
          "base_uri": "https://localhost:8080/"
        }
      },
      "execution_count": 98,
      "outputs": [
        {
          "output_type": "stream",
          "name": "stdout",
          "text": [
            "salary    30396000\n",
            "dtype: int64\n",
            "salary    0\n",
            "dtype: int64\n"
          ]
        }
      ]
    },
    {
      "cell_type": "code",
      "source": [
        "#compute the average salaries for each remote ratio?\n",
        "#how many entries are there?\n",
        "\n",
        "df5 = df[['remote_ratio','salary',]]\n",
        "#print(df2)\n",
        "avg_ratio = df5.groupby(['remote_ratio']).mean()\n",
        "print(avg_ratio)\n",
        "entries=avg_ratio.count()\n",
        "print('# of entries there =', entries)\n"
      ],
      "metadata": {
        "id": "EobWnEjVbJcT",
        "outputId": "42c84e67-10bd-4244-abed-aacc59604676",
        "colab": {
          "base_uri": "https://localhost:8080/"
        }
      },
      "execution_count": 102,
      "outputs": [
        {
          "output_type": "stream",
          "name": "stdout",
          "text": [
            "                     salary\n",
            "remote_ratio               \n",
            "0             218147.842520\n",
            "50            708018.171717\n",
            "100           259499.902887\n",
            "# of entries there = salary    3\n",
            "dtype: int64\n"
          ]
        }
      ]
    }
  ]
}
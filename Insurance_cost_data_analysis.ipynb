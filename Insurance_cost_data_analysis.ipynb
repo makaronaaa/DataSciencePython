{
  "nbformat": 4,
  "nbformat_minor": 0,
  "metadata": {
    "colab": {
      "provenance": [],
      "include_colab_link": true
    },
    "kernelspec": {
      "name": "python3",
      "display_name": "Python 3"
    },
    "language_info": {
      "name": "python"
    }
  },
  "cells": [
    {
      "cell_type": "markdown",
      "metadata": {
        "id": "view-in-github",
        "colab_type": "text"
      },
      "source": [
        "<a href=\"https://colab.research.google.com/github/makaronaaa/DataSciencePython/blob/main/Insurance_cost_data_analysis.ipynb\" target=\"_parent\"><img src=\"https://colab.research.google.com/assets/colab-badge.svg\" alt=\"Open In Colab\"/></a>"
      ]
    },
    {
      "cell_type": "code",
      "execution_count": null,
      "metadata": {
        "colab": {
          "base_uri": "https://localhost:8080/",
          "height": 411
        },
        "id": "v7-4Plpi0_Sy",
        "outputId": "97eeeca9-a1d2-4592-ab8e-70ec2c6849e8"
      },
      "outputs": [
        {
          "output_type": "execute_result",
          "data": {
            "text/plain": [
              "      age     sex     bmi  children smoker     region      charges\n",
              "0      19  female  27.900         0    yes  southwest  16884.92400\n",
              "1      18    male  33.770         1     no  southeast   1725.55230\n",
              "2      28    male  33.000         3     no  southeast   4449.46200\n",
              "3      33    male  22.705         0     no  northwest  21984.47061\n",
              "4      32    male  28.880         0     no  northwest   3866.85520\n",
              "...   ...     ...     ...       ...    ...        ...          ...\n",
              "1333   50    male  30.970         3     no  northwest  10600.54830\n",
              "1334   18  female  31.920         0     no  northeast   2205.98080\n",
              "1335   18  female  36.850         0     no  southeast   1629.83350\n",
              "1336   21  female  25.800         0     no  southwest   2007.94500\n",
              "1337   61  female  29.070         0    yes  northwest  29141.36030\n",
              "\n",
              "[1338 rows x 7 columns]"
            ],
            "text/html": [
              "\n",
              "  <div id=\"df-b1952329-75d8-4b55-a372-05d4cfa0ac08\">\n",
              "    <div class=\"colab-df-container\">\n",
              "      <div>\n",
              "<style scoped>\n",
              "    .dataframe tbody tr th:only-of-type {\n",
              "        vertical-align: middle;\n",
              "    }\n",
              "\n",
              "    .dataframe tbody tr th {\n",
              "        vertical-align: top;\n",
              "    }\n",
              "\n",
              "    .dataframe thead th {\n",
              "        text-align: right;\n",
              "    }\n",
              "</style>\n",
              "<table border=\"1\" class=\"dataframe\">\n",
              "  <thead>\n",
              "    <tr style=\"text-align: right;\">\n",
              "      <th></th>\n",
              "      <th>age</th>\n",
              "      <th>sex</th>\n",
              "      <th>bmi</th>\n",
              "      <th>children</th>\n",
              "      <th>smoker</th>\n",
              "      <th>region</th>\n",
              "      <th>charges</th>\n",
              "    </tr>\n",
              "  </thead>\n",
              "  <tbody>\n",
              "    <tr>\n",
              "      <th>0</th>\n",
              "      <td>19</td>\n",
              "      <td>female</td>\n",
              "      <td>27.900</td>\n",
              "      <td>0</td>\n",
              "      <td>yes</td>\n",
              "      <td>southwest</td>\n",
              "      <td>16884.92400</td>\n",
              "    </tr>\n",
              "    <tr>\n",
              "      <th>1</th>\n",
              "      <td>18</td>\n",
              "      <td>male</td>\n",
              "      <td>33.770</td>\n",
              "      <td>1</td>\n",
              "      <td>no</td>\n",
              "      <td>southeast</td>\n",
              "      <td>1725.55230</td>\n",
              "    </tr>\n",
              "    <tr>\n",
              "      <th>2</th>\n",
              "      <td>28</td>\n",
              "      <td>male</td>\n",
              "      <td>33.000</td>\n",
              "      <td>3</td>\n",
              "      <td>no</td>\n",
              "      <td>southeast</td>\n",
              "      <td>4449.46200</td>\n",
              "    </tr>\n",
              "    <tr>\n",
              "      <th>3</th>\n",
              "      <td>33</td>\n",
              "      <td>male</td>\n",
              "      <td>22.705</td>\n",
              "      <td>0</td>\n",
              "      <td>no</td>\n",
              "      <td>northwest</td>\n",
              "      <td>21984.47061</td>\n",
              "    </tr>\n",
              "    <tr>\n",
              "      <th>4</th>\n",
              "      <td>32</td>\n",
              "      <td>male</td>\n",
              "      <td>28.880</td>\n",
              "      <td>0</td>\n",
              "      <td>no</td>\n",
              "      <td>northwest</td>\n",
              "      <td>3866.85520</td>\n",
              "    </tr>\n",
              "    <tr>\n",
              "      <th>...</th>\n",
              "      <td>...</td>\n",
              "      <td>...</td>\n",
              "      <td>...</td>\n",
              "      <td>...</td>\n",
              "      <td>...</td>\n",
              "      <td>...</td>\n",
              "      <td>...</td>\n",
              "    </tr>\n",
              "    <tr>\n",
              "      <th>1333</th>\n",
              "      <td>50</td>\n",
              "      <td>male</td>\n",
              "      <td>30.970</td>\n",
              "      <td>3</td>\n",
              "      <td>no</td>\n",
              "      <td>northwest</td>\n",
              "      <td>10600.54830</td>\n",
              "    </tr>\n",
              "    <tr>\n",
              "      <th>1334</th>\n",
              "      <td>18</td>\n",
              "      <td>female</td>\n",
              "      <td>31.920</td>\n",
              "      <td>0</td>\n",
              "      <td>no</td>\n",
              "      <td>northeast</td>\n",
              "      <td>2205.98080</td>\n",
              "    </tr>\n",
              "    <tr>\n",
              "      <th>1335</th>\n",
              "      <td>18</td>\n",
              "      <td>female</td>\n",
              "      <td>36.850</td>\n",
              "      <td>0</td>\n",
              "      <td>no</td>\n",
              "      <td>southeast</td>\n",
              "      <td>1629.83350</td>\n",
              "    </tr>\n",
              "    <tr>\n",
              "      <th>1336</th>\n",
              "      <td>21</td>\n",
              "      <td>female</td>\n",
              "      <td>25.800</td>\n",
              "      <td>0</td>\n",
              "      <td>no</td>\n",
              "      <td>southwest</td>\n",
              "      <td>2007.94500</td>\n",
              "    </tr>\n",
              "    <tr>\n",
              "      <th>1337</th>\n",
              "      <td>61</td>\n",
              "      <td>female</td>\n",
              "      <td>29.070</td>\n",
              "      <td>0</td>\n",
              "      <td>yes</td>\n",
              "      <td>northwest</td>\n",
              "      <td>29141.36030</td>\n",
              "    </tr>\n",
              "  </tbody>\n",
              "</table>\n",
              "<p>1338 rows × 7 columns</p>\n",
              "</div>\n",
              "      <button class=\"colab-df-convert\" onclick=\"convertToInteractive('df-b1952329-75d8-4b55-a372-05d4cfa0ac08')\"\n",
              "              title=\"Convert this dataframe to an interactive table.\"\n",
              "              style=\"display:none;\">\n",
              "        \n",
              "  <svg xmlns=\"http://www.w3.org/2000/svg\" height=\"24px\"viewBox=\"0 0 24 24\"\n",
              "       width=\"24px\">\n",
              "    <path d=\"M0 0h24v24H0V0z\" fill=\"none\"/>\n",
              "    <path d=\"M18.56 5.44l.94 2.06.94-2.06 2.06-.94-2.06-.94-.94-2.06-.94 2.06-2.06.94zm-11 1L8.5 8.5l.94-2.06 2.06-.94-2.06-.94L8.5 2.5l-.94 2.06-2.06.94zm10 10l.94 2.06.94-2.06 2.06-.94-2.06-.94-.94-2.06-.94 2.06-2.06.94z\"/><path d=\"M17.41 7.96l-1.37-1.37c-.4-.4-.92-.59-1.43-.59-.52 0-1.04.2-1.43.59L10.3 9.45l-7.72 7.72c-.78.78-.78 2.05 0 2.83L4 21.41c.39.39.9.59 1.41.59.51 0 1.02-.2 1.41-.59l7.78-7.78 2.81-2.81c.8-.78.8-2.07 0-2.86zM5.41 20L4 18.59l7.72-7.72 1.47 1.35L5.41 20z\"/>\n",
              "  </svg>\n",
              "      </button>\n",
              "      \n",
              "  <style>\n",
              "    .colab-df-container {\n",
              "      display:flex;\n",
              "      flex-wrap:wrap;\n",
              "      gap: 12px;\n",
              "    }\n",
              "\n",
              "    .colab-df-convert {\n",
              "      background-color: #E8F0FE;\n",
              "      border: none;\n",
              "      border-radius: 50%;\n",
              "      cursor: pointer;\n",
              "      display: none;\n",
              "      fill: #1967D2;\n",
              "      height: 32px;\n",
              "      padding: 0 0 0 0;\n",
              "      width: 32px;\n",
              "    }\n",
              "\n",
              "    .colab-df-convert:hover {\n",
              "      background-color: #E2EBFA;\n",
              "      box-shadow: 0px 1px 2px rgba(60, 64, 67, 0.3), 0px 1px 3px 1px rgba(60, 64, 67, 0.15);\n",
              "      fill: #174EA6;\n",
              "    }\n",
              "\n",
              "    [theme=dark] .colab-df-convert {\n",
              "      background-color: #3B4455;\n",
              "      fill: #D2E3FC;\n",
              "    }\n",
              "\n",
              "    [theme=dark] .colab-df-convert:hover {\n",
              "      background-color: #434B5C;\n",
              "      box-shadow: 0px 1px 3px 1px rgba(0, 0, 0, 0.15);\n",
              "      filter: drop-shadow(0px 1px 2px rgba(0, 0, 0, 0.3));\n",
              "      fill: #FFFFFF;\n",
              "    }\n",
              "  </style>\n",
              "\n",
              "      <script>\n",
              "        const buttonEl =\n",
              "          document.querySelector('#df-b1952329-75d8-4b55-a372-05d4cfa0ac08 button.colab-df-convert');\n",
              "        buttonEl.style.display =\n",
              "          google.colab.kernel.accessAllowed ? 'block' : 'none';\n",
              "\n",
              "        async function convertToInteractive(key) {\n",
              "          const element = document.querySelector('#df-b1952329-75d8-4b55-a372-05d4cfa0ac08');\n",
              "          const dataTable =\n",
              "            await google.colab.kernel.invokeFunction('convertToInteractive',\n",
              "                                                     [key], {});\n",
              "          if (!dataTable) return;\n",
              "\n",
              "          const docLinkHtml = 'Like what you see? Visit the ' +\n",
              "            '<a target=\"_blank\" href=https://colab.research.google.com/notebooks/data_table.ipynb>data table notebook</a>'\n",
              "            + ' to learn more about interactive tables.';\n",
              "          element.innerHTML = '';\n",
              "          dataTable['output_type'] = 'display_data';\n",
              "          await google.colab.output.renderOutput(dataTable, element);\n",
              "          const docLink = document.createElement('div');\n",
              "          docLink.innerHTML = docLinkHtml;\n",
              "          element.appendChild(docLink);\n",
              "        }\n",
              "      </script>\n",
              "    </div>\n",
              "  </div>\n",
              "  "
            ]
          },
          "metadata": {},
          "execution_count": 3
        }
      ],
      "source": [
        "import pandas as pd\n",
        "import numpy as np\n",
        "import csv\n",
        "df=pd.read_csv('/content/sample_data/insurance.csv')\n",
        "df"
      ]
    },
    {
      "cell_type": "markdown",
      "source": [
        "2. how many different entries are there for columns: age, sex,\n",
        "children, smoker, and region"
      ],
      "metadata": {
        "id": "3FGr7lNk1h0O"
      }
    },
    {
      "cell_type": "code",
      "source": [
        "# print(\"Age:\",df['age'].count())\n",
        "# print(\"Sex:\",df['sex'].count())\n",
        "# print(\"Children:\",df['children'].count())\n",
        "# print(\"Smoker:\",df['smoker'].count())\n",
        "# print(\"Region:\",df['region'].count())\n",
        "\n",
        "# variable to hold the count\n",
        "cnt = 0\n",
        "# list to hold visited values\n",
        "distinct = []\n",
        "# loop for counting the unique\n",
        "# values in height\n",
        "for i in range(0, len(df['age'])): \n",
        "    if df['age'][i] not in distinct:   \n",
        "        distinct.append(df['age'][i]) \n",
        "        cnt += 1\n",
        "print(\"No.of.unique values AGE:\",\n",
        "      cnt)\n",
        "#print(\"unique values AGE:\",distinct)\n",
        "\n",
        "cnt = 0\n",
        "distinct = []\n",
        "for i in range(0, len(df['sex'])): \n",
        "    if df['sex'][i] not in distinct:   \n",
        "        distinct.append(df['sex'][i]) \n",
        "        cnt += 1\n",
        "print(\"No.of.unique values SEX:\",\n",
        "      cnt)\n",
        "#print(\"unique values SEX:\",distinct)\n",
        "\n",
        "cnt = 0\n",
        "distinct = []\n",
        "for i in range(0, len(df['children'])): \n",
        "    if df['children'][i] not in distinct:   \n",
        "        distinct.append(df['children'][i]) \n",
        "        cnt += 1\n",
        "print(\"No.of.unique values CHILDREN:\",\n",
        "      cnt)\n",
        "#print(\"unique values CHILDREN:\",distinct)\n",
        "\n",
        "cnt = 0\n",
        "distinct = []\n",
        "for i in range(0, len(df['smoker'])): \n",
        "    if df['smoker'][i] not in distinct:   \n",
        "        distinct.append(df['smoker'][i]) \n",
        "        cnt += 1\n",
        "print(\"No.of.unique values SMOKER:\",\n",
        "      cnt)\n",
        "#print(\"unique values SMOKER:\",distinct)\n",
        "\n",
        "cnt = 0\n",
        "distinct = []\n",
        "for i in range(0, len(df['region'])): \n",
        "    if df['region'][i] not in distinct:   \n",
        "        distinct.append(df['region'][i]) \n",
        "        cnt += 1\n",
        "print(\"No.of.unique values REGION:\",\n",
        "      cnt)\n",
        "#print(\"unique values REGION:\",distinct)"
      ],
      "metadata": {
        "colab": {
          "base_uri": "https://localhost:8080/"
        },
        "id": "tn-EqDfE2uQa",
        "outputId": "f16e7970-e3d4-4893-8e60-06e588134f21"
      },
      "execution_count": null,
      "outputs": [
        {
          "output_type": "stream",
          "name": "stdout",
          "text": [
            "No.of.unique values AGE: 47\n",
            "No.of.unique values SEX: 2\n",
            "No.of.unique values CHILDREN: 6\n",
            "No.of.unique values SMOKER: 2\n",
            "No.of.unique values REGION: 4\n"
          ]
        }
      ]
    },
    {
      "cell_type": "markdown",
      "source": [
        "3. compute the percentage of male and female smokers for\n",
        "each region"
      ],
      "metadata": {
        "id": "WM6_pGz11ue_"
      }
    },
    {
      "cell_type": "code",
      "source": [
        "smokers = df[[\"region\" , \"sex\" , \"smoker\"]][df[\"smoker\"] == \"yes\"]\n",
        "smokers\n",
        "smoker_genders = smokers.groupby(['region', 'sex'])['sex'].count()\n",
        "gender_pcts = smoker_genders.groupby(level=0).apply(lambda x:\n",
        "                                                 round(100 * x / float(x.sum()), 2))\n",
        "gender_pcts"
      ],
      "metadata": {
        "colab": {
          "base_uri": "https://localhost:8080/"
        },
        "id": "_gtEXSPGvUse",
        "outputId": "4485d29d-265b-4c1c-8bb1-82ecfa15054a"
      },
      "execution_count": 19,
      "outputs": [
        {
          "output_type": "execute_result",
          "data": {
            "text/plain": [
              "region     sex   \n",
              "northeast  female    43.28\n",
              "           male      56.72\n",
              "northwest  female    50.00\n",
              "           male      50.00\n",
              "southeast  female    39.56\n",
              "           male      60.44\n",
              "southwest  female    36.21\n",
              "           male      63.79\n",
              "Name: sex, dtype: float64"
            ]
          },
          "metadata": {},
          "execution_count": 19
        }
      ]
    },
    {
      "cell_type": "markdown",
      "source": [
        "4. compute the average age of smokers (male and females)\n",
        "across regions. Any observations?"
      ],
      "metadata": {
        "id": "sVcZFdWg1yKS"
      }
    },
    {
      "cell_type": "code",
      "source": [
        "df3 = df[['smoker','age','sex']][df[\"smoker\"] == \"yes\"]\n",
        "avg = df3.groupby(['smoker','sex']).mean()\n",
        "print(avg)"
      ],
      "metadata": {
        "colab": {
          "base_uri": "https://localhost:8080/"
        },
        "id": "D_tYPOe0Cc6Q",
        "outputId": "f0f9ea44-0700-432e-989c-d182b722071c"
      },
      "execution_count": 20,
      "outputs": [
        {
          "output_type": "stream",
          "name": "stdout",
          "text": [
            "                     age\n",
            "smoker sex              \n",
            "yes    female  38.608696\n",
            "       male    38.446541\n"
          ]
        }
      ]
    },
    {
      "cell_type": "markdown",
      "source": [
        "5. for each region compute the average BMI and costs and\n",
        "summarize them in the tables like the one below (one table\n",
        "for each region)"
      ],
      "metadata": {
        "id": "NYJfOC8-DATN"
      }
    },
    {
      "cell_type": "code",
      "source": [
        "df4 = df[['bmi','charges','region','sex']]\n",
        "avg = df4.groupby(['sex','region']).mean()\n",
        "print(avg)"
      ],
      "metadata": {
        "colab": {
          "base_uri": "https://localhost:8080/"
        },
        "id": "mM8XIXe4DEIu",
        "outputId": "ae4c2df2-6be5-44f5-9af2-62cca166d4f1"
      },
      "execution_count": null,
      "outputs": [
        {
          "output_type": "stream",
          "name": "stdout",
          "text": [
            "                        bmi       charges\n",
            "sex    region                            \n",
            "female northeast  29.324317  12953.203151\n",
            "       northwest  29.277957  12479.870397\n",
            "       southeast  32.671257  13499.669243\n",
            "       southwest  30.060494  11274.411264\n",
            "male   northeast  29.024540  13854.005374\n",
            "       northwest  29.120155  12354.119575\n",
            "       southeast  33.990000  15879.617173\n",
            "       southwest  31.129448  13412.883576\n"
          ]
        }
      ]
    }
  ]
}
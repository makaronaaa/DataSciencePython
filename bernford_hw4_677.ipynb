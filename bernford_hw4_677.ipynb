{
  "nbformat": 4,
  "nbformat_minor": 0,
  "metadata": {
    "colab": {
      "provenance": [],
      "authorship_tag": "ABX9TyMEqa4THcDx4aeqgfKRPQ/0",
      "include_colab_link": true
    },
    "kernelspec": {
      "name": "python3",
      "display_name": "Python 3"
    },
    "language_info": {
      "name": "python"
    }
  },
  "cells": [
    {
      "cell_type": "markdown",
      "metadata": {
        "id": "view-in-github",
        "colab_type": "text"
      },
      "source": [
        "<a href=\"https://colab.research.google.com/github/makaronaaa/NLP/blob/main/bernford_hw4_677.ipynb\" target=\"_parent\"><img src=\"https://colab.research.google.com/assets/colab-badge.svg\" alt=\"Open In Colab\"/></a>"
      ]
    },
    {
      "cell_type": "code",
      "execution_count": null,
      "metadata": {
        "id": "-D8PHd6VuNMO"
      },
      "outputs": [],
      "source": [
        "from pandas._libs.algos import diff_2d\n",
        "from IPython.utils.text import num_ini_spaces\n",
        "import pandas as pd\n",
        "import numpy as np\n",
        "import random\n",
        "import matplotlib.pyplot as plt\n",
        "import matplotlib.pyplot as plt\n",
        "from matplotlib.ticker import StrMethodFormatter\n",
        "#focus on the ”SellPrice” column & compute the real distribution F = (f1, f2, . . . , f9) of frequencies of the leading\n",
        "#digit in these prices and compare F to two models:\n",
        "\n",
        "df=pd.read_csv(\"/content/sample_data/FashionDataset.csv\")\n",
        "df['SellPrice']= pd.to_numeric(df.SellPrice,errors='coerce')\n",
        "print(df)\n",
        "df1 = df.dropna(subset = [\"SellPrice\"])\n",
        "df1['Lead_digit'] = df1['SellPrice'].astype(str).str[0]\n",
        "\n",
        "df1= df1.sort_values('Lead_digit', ascending=True)\n",
        "df1=df1.reset_index(drop=True)\n",
        "#print(df1)\n",
        "df2 = df1['Lead_digit'].value_counts()\n",
        "keys=df2.keys()\n",
        "values= df2.values\n",
        "\n",
        "df2= pd.DataFrame({'Lead_digit': keys,'frequency': values})\n",
        "df2= df2.sort_values('Lead_digit', ascending=True)\n",
        "df2=df2.reset_index(drop=True)\n",
        "print(df2)\n",
        "\n"
      ]
    },
    {
      "cell_type": "code",
      "source": [
        "#Model 1: equal-weight distribution: each leading digit has the same frequency 1/9 = 11.11%\n",
        "#Model 2: leading digit follows the Bernford’s law. In this model, the prediction is a 9-digit vector π = (π1, π2, . . . , π9)\n",
        "##compute the real distribution F = (f1, f2, . . . , f9) of frequencies\n",
        "df2['real dist']= df2['frequency']*100/df2['frequency'].sum()  #real distr in percentage(*100)=probability of 1\n",
        "df2['equal_dist']= 11.11\n",
        "df2['bernfordlaw']= [30.1, 17.6, 12.5, 9.7, 7.9, 6.7, 5.8, 5.1, 4.6]\n",
        "print(df2)"
      ],
      "metadata": {
        "id": "RrPM8msE6R5_"
      },
      "execution_count": null,
      "outputs": []
    },
    {
      "cell_type": "code",
      "source": [
        "#plot 3 histograms for the frequencies for real distribution,equal-weight and Bernford (for each digit)\n",
        "df2.plot(x = 'Lead_digit', y = 'real dist')\n",
        "df2.plot(x = 'Lead_digit', y = 'equal_dist')\n",
        "df2.plot(x = 'Lead_digit', y = 'bernfordlaw')\n",
        "df2.plot(x = 'Lead_digit', y = 'frequency')"
      ],
      "metadata": {
        "id": "stCEo7mn6XPP"
      },
      "execution_count": null,
      "outputs": []
    },
    {
      "cell_type": "code",
      "source": [
        "#plot 2 histograms for the relative errors for Models 1 and 2 (for each digit)\n",
        "df2['relative_error_bernford']= (df2['real dist']-df2['bernfordlaw'])/df2['bernfordlaw']\n",
        "df2['relative_error_eq_dist']= (df2['real dist']-df2['equal_dist'])/df2['equal_dist']\n",
        "\n",
        "df2.plot(x = 'Lead_digit', y = 'relative_error_eq_dist')\n",
        "df2.plot(x = 'Lead_digit', y = 'relative_error_bernford')"
      ],
      "metadata": {
        "id": "j2zE0L7k6dqf"
      },
      "execution_count": null,
      "outputs": []
    },
    {
      "cell_type": "code",
      "source": [
        "#compute RMSE (root mean squared error) for model 1 and 2. Which model is closer to the real distribution?\n",
        "df2['RMSE_Bernford'] = (((df2['real dist']-df2['bernfordlaw']) ** 2).mean()) ** .5\n",
        "df2['RMSE_eq_dist']= (((df2['real dist']-df2['equal_dist']) ** 2).mean()) ** .5\n",
        "print(df2)\n",
        "#ANSWER: error in RMSE_Bernford smaller-> more accurate,closer to the real dist"
      ],
      "metadata": {
        "id": "EHeUVm6k6juG"
      },
      "execution_count": null,
      "outputs": []
    },
    {
      "cell_type": "code",
      "source": [
        "# take 3 categories of your choice For each of these categories do the following: \n",
        "#(a) compute F, P and π. \n",
        "#(b) using RMSE as a ”distance” metric, for which of these chosen three countries is the distribution ”closest” to equal weight P?\n",
        "\n",
        "df=df[['Category','SellPrice']]\n",
        "#print(df)\n",
        "df5=(df.loc[df['Category'] == 'Westernwear-Women']).dropna(subset = [\"SellPrice\"])\n",
        "df5['Lead_digit'] = df5['SellPrice'].astype(str).str[0]\n",
        "print(df5.sort_values('Lead_digit', ascending=True))\n",
        "\n",
        "df5a = df5['Lead_digit'].value_counts()\n",
        "#print(df5a)\n",
        "keys= df5a.keys()\n",
        "values= df5a.values\n",
        "df5b=pd.DataFrame({'Lead_digit': keys,'frequency': values})\n",
        "ww_cat=df5b.sort_values('Lead_digit', ascending=True)\n",
        "print(ww_cat)\n",
        "\n",
        "df6=(df.loc[df['Category'] == 'Jewellery-Women']).dropna(subset = [\"SellPrice\"])\n",
        "df6['Lead_digit'] = df6['SellPrice'].astype(str).str[0]\n",
        "print(df6.sort_values('Lead_digit', ascending=True))\n",
        "df6a = df6['Lead_digit'].value_counts()\n",
        "#print(df6a)\n",
        "keys= df6a.keys()\n",
        "values= df6a.values\n",
        "df6b=pd.DataFrame({'Lead_digit': keys,'frequency': values})\n",
        "jw_cat=df6b.sort_values('Lead_digit', ascending=True)\n",
        "print(jw_cat)\n",
        "\n",
        "df7=(df.loc[df['Category'] == 'Indianwear-Women']).dropna(subset = [\"SellPrice\"])\n",
        "df7['Lead_digit'] = df7['SellPrice'].astype(str).str[0]\n",
        "print(df7.sort_values('Lead_digit', ascending=True))\n",
        "# print(df7)\n",
        "df7a = df7['Lead_digit'].value_counts()\n",
        "#print(df7a)\n",
        "keys= df7a.keys()\n",
        "values= df7a.values\n",
        "df7b=pd.DataFrame({'Lead_digit': keys,'frequency': values})\n",
        "iw_cat=df7b.sort_values('Lead_digit', ascending=True)\n",
        "print(iw_cat)"
      ],
      "metadata": {
        "id": "8qbGw8Ti672N"
      },
      "execution_count": null,
      "outputs": []
    },
    {
      "cell_type": "code",
      "source": [
        "df5b['real dist']= df5b['frequency']*100/df5b['frequency'].sum()  #real distr in percentage(*100)=probability of 1\n",
        "df5b['equal_dist']= 11.11\n",
        "df5b['bernfordlaw']= [30.1, 17.6, 12.5, 9.7, 7.9, 6.7, 5.8, 5.1, 4.6]\n",
        "print(df5b)\n",
        "\n",
        "df6b['real dist']= df6b['frequency']*100/df6b['frequency'].sum()  #real distr in percentage(*100)=probability of 1\n",
        "df6b['equal_dist']= 11.11\n",
        "df6b['bernfordlaw']= [30.1, 17.6, 12.5, 9.7, 7.9, 6.7, 5.8, 5.1, 4.6]\n",
        "print(df6b)\n",
        "\n",
        "df7b['real dist']= df7b['frequency']*100/df7b['frequency'].sum()  #real distr in percentage(*100)=probability of 1\n",
        "df7b['equal_dist']= 11.11\n",
        "df7b['bernfordlaw']= [30.1, 17.6, 12.5, 9.7, 7.9, 6.7, 5.8, 5.1, 4.6]\n",
        "print(df7b)"
      ],
      "metadata": {
        "id": "Vjrw9JDloYCd"
      },
      "execution_count": null,
      "outputs": []
    },
    {
      "cell_type": "code",
      "source": [
        "df5b.plot(x = 'Lead_digit', y = 'real dist')\n",
        "df5b.plot(x = 'Lead_digit', y = 'equal_dist')\n",
        "df5b.plot(x = 'Lead_digit', y = 'bernfordlaw')\n",
        "df5b.plot(x = 'Lead_digit', y = 'frequency')\n",
        "\n",
        "df6b.plot(x = 'Lead_digit', y = 'real dist')\n",
        "df6b.plot(x = 'Lead_digit', y = 'equal_dist')\n",
        "df6b.plot(x = 'Lead_digit', y = 'bernfordlaw')\n",
        "df6b.plot(x = 'Lead_digit', y = 'frequency')\n",
        "\n",
        "df7b.plot(x = 'Lead_digit', y = 'real dist')\n",
        "df7b.plot(x = 'Lead_digit', y = 'equal_dist')\n",
        "df7b.plot(x = 'Lead_digit', y = 'bernfordlaw')\n",
        "df7b.plot(x = 'Lead_digit', y = 'frequency')"
      ],
      "metadata": {
        "id": "P54sQg_Oqppk"
      },
      "execution_count": null,
      "outputs": []
    },
    {
      "cell_type": "code",
      "source": [
        "df5b['relative_error_bernford']= (df5b['real dist']-df5b['bernfordlaw'])/df5b['bernfordlaw']\n",
        "df5b['relative_error_eq_dist']= (df5b['real dist']-df5b['equal_dist'])/df5b['equal_dist']\n",
        "df5b.plot(x = 'Lead_digit', y = 'relative_error_eq_dist')\n",
        "df5b.plot(x = 'Lead_digit', y = 'relative_error_bernford')\n",
        "\n",
        "df6b['relative_error_bernford']= (df6b['real dist']-df6b['bernfordlaw'])/df6b['bernfordlaw']\n",
        "df6b['relative_error_eq_dist']= (df6b['real dist']-df6b['equal_dist'])/df6b['equal_dist']\n",
        "df6b.plot(x = 'Lead_digit', y = 'relative_error_eq_dist')\n",
        "df6b.plot(x = 'Lead_digit', y = 'relative_error_bernford')\n",
        "\n",
        "df7b['relative_error_bernford']= (df7b['real dist']-df7b['bernfordlaw'])/df7b['bernfordlaw']\n",
        "df7b['relative_error_eq_dist']= (df7b['real dist']-df7b['equal_dist'])/df7b['equal_dist']\n",
        "df7b.plot(x = 'Lead_digit', y = 'relative_error_eq_dist')\n",
        "df7b.plot(x = 'Lead_digit', y = 'relative_error_bernford')"
      ],
      "metadata": {
        "id": "qXvpGJZTrB58"
      },
      "execution_count": null,
      "outputs": []
    },
    {
      "cell_type": "code",
      "source": [
        "df5b['RMSE_Bernford'] = (((df5b['real dist']-df5b['bernfordlaw']) ** 2).mean()) ** .5\n",
        "df5b['RMSE_eq_dist']= (((df5b['real dist']-df5b['equal_dist']) ** 2).mean()) ** .5\n",
        "\n",
        "df6b['RMSE_Bernford'] = (((df6b['real dist']-df6b['bernfordlaw']) ** 2).mean()) ** .5\n",
        "df6b['RMSE_eq_dist']= (((df6b['real dist']-df6b['equal_dist']) ** 2).mean()) ** .5\n",
        "\n",
        "df7b['RMSE_Bernford'] = (((df7b['real dist']-df7b['bernfordlaw']) ** 2).mean()) ** .5\n",
        "df7b['RMSE_eq_dist']= (((df7b['real dist']-df7b['equal_dist']) ** 2).mean()) ** .5\n",
        "print(df5b)\n",
        "print(df6b)\n",
        "print(df7b)"
      ],
      "metadata": {
        "colab": {
          "base_uri": "https://localhost:8080/"
        },
        "id": "YrA_AiXOrp_X",
        "outputId": "c81f3a08-daea-43bc-889c-f915833a06ad"
      },
      "execution_count": 111,
      "outputs": [
        {
          "output_type": "stream",
          "name": "stdout",
          "text": [
            "  Lead_digit  frequency  real dist  equal_dist  bernfordlaw  \\\n",
            "0          1       4054  40.641604       11.11         30.1   \n",
            "1          2       1310  13.132832       11.11         17.6   \n",
            "2          9        972   9.744361       11.11         12.5   \n",
            "3          7        762   7.639098       11.11          9.7   \n",
            "4          8        636   6.375940       11.11          7.9   \n",
            "5          4        633   6.345865       11.11          6.7   \n",
            "6          3        601   6.025063       11.11          5.8   \n",
            "7          6        564   5.654135       11.11          5.1   \n",
            "8          5        443   4.441103       11.11          4.6   \n",
            "\n",
            "   relative_error_bernford  relative_error_eq_dist  RMSE_Bernford  \\\n",
            "0                 0.350219                2.658110       4.024274   \n",
            "1                -0.253816                0.182073       4.024274   \n",
            "2                -0.220451               -0.122920       4.024274   \n",
            "3                -0.212464               -0.312412       4.024274   \n",
            "4                -0.192919               -0.426108       4.024274   \n",
            "5                -0.052856               -0.428815       4.024274   \n",
            "6                 0.038804               -0.457690       4.024274   \n",
            "7                 0.108654               -0.491077       4.024274   \n",
            "8                -0.034543               -0.600261       4.024274   \n",
            "\n",
            "   RMSE_eq_dist  \n",
            "0      10.72549  \n",
            "1      10.72549  \n",
            "2      10.72549  \n",
            "3      10.72549  \n",
            "4      10.72549  \n",
            "5      10.72549  \n",
            "6      10.72549  \n",
            "7      10.72549  \n",
            "8      10.72549  \n",
            "  Lead_digit  frequency  real dist  equal_dist  bernfordlaw  \\\n",
            "0          1        444  25.739130       11.11         30.1   \n",
            "1          2        339  19.652174       11.11         17.6   \n",
            "2          3        300  17.391304       11.11         12.5   \n",
            "3          4        185  10.724638       11.11          9.7   \n",
            "4          5        139   8.057971       11.11          7.9   \n",
            "5          7         93   5.391304       11.11          6.7   \n",
            "6          9         82   4.753623       11.11          5.8   \n",
            "7          6         74   4.289855       11.11          5.1   \n",
            "8          8         69   4.000000       11.11          4.6   \n",
            "\n",
            "   relative_error_bernford  relative_error_eq_dist  RMSE_Bernford  \\\n",
            "0                -0.144879                1.316753       2.404907   \n",
            "1                 0.116601                0.768873       2.404907   \n",
            "2                 0.391304                0.565374       2.404907   \n",
            "3                 0.105633               -0.034686       2.404907   \n",
            "4                 0.019996               -0.274710       2.404907   \n",
            "5                -0.195328               -0.514734       2.404907   \n",
            "6                -0.180410               -0.572131       2.404907   \n",
            "7                -0.158852               -0.613874       2.404907   \n",
            "8                -0.130435               -0.639964       2.404907   \n",
            "\n",
            "   RMSE_eq_dist  \n",
            "0       7.49868  \n",
            "1       7.49868  \n",
            "2       7.49868  \n",
            "3       7.49868  \n",
            "4       7.49868  \n",
            "5       7.49868  \n",
            "6       7.49868  \n",
            "7       7.49868  \n",
            "8       7.49868  \n",
            "  Lead_digit  frequency  real dist  equal_dist  bernfordlaw  \\\n",
            "0          1       3671  36.802005       11.11         30.1   \n",
            "1          2       1885  18.897243       11.11         17.6   \n",
            "2          7        791   7.929825       11.11         12.5   \n",
            "3          3        658   6.596491       11.11          9.7   \n",
            "4          9        616   6.175439       11.11          7.9   \n",
            "5          8        613   6.145363       11.11          6.7   \n",
            "6          4        607   6.085213       11.11          5.8   \n",
            "7          5        568   5.694236       11.11          5.1   \n",
            "8          6        566   5.674185       11.11          4.6   \n",
            "\n",
            "   relative_error_bernford  relative_error_eq_dist  RMSE_Bernford  \\\n",
            "0                 0.222658                2.312512       3.018242   \n",
            "1                 0.073707                0.700922       3.018242   \n",
            "2                -0.365614               -0.286244       3.018242   \n",
            "3                -0.319949               -0.406256       3.018242   \n",
            "4                -0.218299               -0.444155       3.018242   \n",
            "5                -0.082782               -0.446862       3.018242   \n",
            "6                 0.049175               -0.452276       3.018242   \n",
            "7                 0.116517               -0.487468       3.018242   \n",
            "8                 0.233519               -0.489272       3.018242   \n",
            "\n",
            "   RMSE_eq_dist  \n",
            "0      9.912563  \n",
            "1      9.912563  \n",
            "2      9.912563  \n",
            "3      9.912563  \n",
            "4      9.912563  \n",
            "5      9.912563  \n",
            "6      9.912563  \n",
            "7      9.912563  \n",
            "8      9.912563  \n"
          ]
        }
      ]
    }
  ]
}
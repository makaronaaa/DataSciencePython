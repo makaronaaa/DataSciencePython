{
  "nbformat": 4,
  "nbformat_minor": 0,
  "metadata": {
    "colab": {
      "provenance": [],
      "authorship_tag": "ABX9TyMZ0Ef8bBQV6a9NzXaMaq9P",
      "include_colab_link": true
    },
    "kernelspec": {
      "name": "python3",
      "display_name": "Python 3"
    },
    "language_info": {
      "name": "python"
    }
  },
  "cells": [
    {
      "cell_type": "markdown",
      "metadata": {
        "id": "view-in-github",
        "colab_type": "text"
      },
      "source": [
        "<a href=\"https://colab.research.google.com/github/makaronaaa/DataSciencePython/blob/main/Fibonacci.ipynb\" target=\"_parent\"><img src=\"https://colab.research.google.com/assets/colab-badge.svg\" alt=\"Open In Colab\"/></a>"
      ]
    },
    {
      "cell_type": "code",
      "source": [
        "def fib_recursive(n):\n",
        "    if n <= 0: \n",
        "        raise ValueError(\"n must be a positive int\")\n",
        "    if n <= 2:  \n",
        "        return 1\n",
        "    else:\n",
        "        return fib_recursive(n - 1) + fib_recursive(n - 2)\n",
        "#time complexity O(2^n)\n",
        "print(\"Recursive:\")\n",
        "\n",
        "n = 10\n",
        "for i in range(1, n + 1):\n",
        "    fibonacci_recursive = fib_recursive(i)\n",
        "    print(f\"F({i}) = {fibonacci_recursive}\")\n",
        "#overall time complexity: O(n * 2^n)\n"
      ],
      "metadata": {
        "id": "uWCrqSZYxtg3",
        "colab": {
          "base_uri": "https://localhost:8080/"
        },
        "outputId": "cfb6c042-0bd9-440f-b505-caab18716b3c"
      },
      "execution_count": 12,
      "outputs": [
        {
          "output_type": "stream",
          "name": "stdout",
          "text": [
            "Recursive:\n",
            "F(1) = 1\n",
            "F(2) = 1\n",
            "F(3) = 2\n",
            "F(4) = 3\n",
            "F(5) = 5\n",
            "F(6) = 8\n",
            "F(7) = 13\n",
            "F(8) = 21\n",
            "F(9) = 34\n",
            "F(10) = 55\n"
          ]
        }
      ]
    },
    {
      "cell_type": "code",
      "source": [
        " #N value of the Fib sequence, in O(n) time\n",
        "def fibonacci(n):\n",
        "    if n <= 0:\n",
        "        raise ValueError(\"n must be a positive int\")\n",
        "    if n <= 2:\n",
        "        return 1\n",
        "\n",
        "    fib_prev = 1\n",
        "    fib_current = 1\n",
        "\n",
        "    for _ in range(3, n + 1):\n",
        "        fib_next = fib_prev + fib_current\n",
        "        fib_prev = fib_current\n",
        "        fib_current = fib_next\n",
        "    return fib_current\n",
        "\n",
        "n = 10\n",
        "fib_n = fibonacci(n)\n",
        "print(f\"F({n}) = {fib_n}\")"
      ],
      "metadata": {
        "colab": {
          "base_uri": "https://localhost:8080/"
        },
        "id": "3fCgsUNPIbX6",
        "outputId": "3b3d0387-9dd8-41a0-c3a3-08804f2de246"
      },
      "execution_count": 15,
      "outputs": [
        {
          "output_type": "stream",
          "name": "stdout",
          "text": [
            "F(10) = 55\n"
          ]
        }
      ]
    },
    {
      "cell_type": "code",
      "source": [
        "#N Fibonacci # with O(1) space complexity #O(log n)\n",
        "def fibonacci(n):\n",
        "    if n <= 0:\n",
        "        raise ValueError(\"n must be a positive integer.\")\n",
        "    if n <= 2:\n",
        "        return 1\n",
        "    sqrt_5 = 5 ** 0.5\n",
        "    phi = (1 + sqrt_5) / 2\n",
        "    fib_n = int((phi ** n) / sqrt_5 + 0.5)\n",
        "    return fib_n\n",
        "\n",
        "n = 10\n",
        "fib_n = fibonacci(n)\n",
        "print(f\"F({n}) = {fib_n}\")"
      ],
      "metadata": {
        "id": "ETiRPT3Ex_Uu",
        "colab": {
          "base_uri": "https://localhost:8080/"
        },
        "outputId": "ee7b207a-9d74-49ed-8154-6ff754804da5"
      },
      "execution_count": 18,
      "outputs": [
        {
          "output_type": "stream",
          "name": "stdout",
          "text": [
            "55\n"
          ]
        }
      ]
    },
    {
      "cell_type": "markdown",
      "source": [
        "![image.png](data:image/png;base64,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)"
      ],
      "metadata": {
        "id": "1BKM_GEiLDX3"
      }
    },
    {
      "cell_type": "code",
      "source": [
        "#Binet's formula, without recursion or iteration  #(1+sqrt(5))/2  #x ~ 1.618\n",
        "import math\n",
        "def fibonacci(n):\n",
        "    if n <= 0:\n",
        "        raise ValueError(\"n must be a positive integer.\")\n",
        "\n",
        "    sqrt_5 = math.sqrt(5)\n",
        "    phi = (1 + sqrt_5) / 2\n",
        "    fib_n = int((phi**n - (-phi)**(-n)) / sqrt_5 + 0.5)\n",
        "    return fib_n\n",
        "\n",
        "n = 10\n",
        "fib_n = fibonacci(n)\n",
        "print(f\"F({n}) = {fib_n}\")"
      ],
      "metadata": {
        "id": "rbKPoc1FyIn9",
        "colab": {
          "base_uri": "https://localhost:8080/"
        },
        "outputId": "3790b9f4-a50c-413e-fd32-848340af3947"
      },
      "execution_count": 19,
      "outputs": [
        {
          "output_type": "stream",
          "name": "stdout",
          "text": [
            "F(10) = 55\n"
          ]
        }
      ]
    }
  ]
}
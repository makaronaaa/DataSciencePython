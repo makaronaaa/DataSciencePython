{
  "nbformat": 4,
  "nbformat_minor": 0,
  "metadata": {
    "colab": {
      "provenance": [],
      "authorship_tag": "ABX9TyOWwMSvqfyC4LmrZOGNAFka",
      "include_colab_link": true
    },
    "kernelspec": {
      "name": "python3",
      "display_name": "Python 3"
    },
    "language_info": {
      "name": "python"
    }
  },
  "cells": [
    {
      "cell_type": "markdown",
      "metadata": {
        "id": "view-in-github",
        "colab_type": "text"
      },
      "source": [
        "<a href=\"https://colab.research.google.com/github/makaronaaa/NLP/blob/main/book_pandas_HW1_677.ipynb\" target=\"_parent\"><img src=\"https://colab.research.google.com/assets/colab-badge.svg\" alt=\"Open In Colab\"/></a>"
      ]
    },
    {
      "cell_type": "code",
      "source": [
        "# 1. load the dataset csv file using Pandas\n",
        "import pandas as pd\n",
        "import csv\n",
        "import numpy\n",
        "#df = pd.read_csv('books scraped.csv')\n",
        "#df = pd.read_csv('C:/Users/WELCOME/Desktop/zomato.csv',encoding=\"ISO-8859-1\")\n",
        "df=pd.read_csv(\"/content/sample_data/books_scraped.csv\")\n",
        "# print(f\"Dataframe is \\n{df}\")\n",
        "\n",
        "print(df)"
      ],
      "metadata": {
        "colab": {
          "base_uri": "https://localhost:8080/"
        },
        "id": "NxORFG2mNrT0",
        "outputId": "6a6d6a3b-b675-47c9-aeff-af0398f36467"
      },
      "execution_count": null,
      "outputs": [
        {
          "output_type": "stream",
          "name": "stdout",
          "text": [
            "                                                 Title       Book_category  \\\n",
            "0                                 A Light in the Attic              Poetry   \n",
            "1                                   Tipping the Velvet  Historical Fiction   \n",
            "2                                           Soumission             Fiction   \n",
            "3                                        Sharp Objects             Mystery   \n",
            "4                Sapiens: A Brief History of Humankind             History   \n",
            "..                                                 ...                 ...   \n",
            "995  Alice in Wonderland (Alice's Adventures in Won...            Classics   \n",
            "996   Ajin: Demi-Human, Volume 1 (Ajin: Demi-Human #1)      Sequential Art   \n",
            "997  A Spy's Devotion (The Regency Spies of London #1)  Historical Fiction   \n",
            "998                1st to Die (Women's Murder Club #1)             Mystery   \n",
            "999                 1,000 Places to See Before You Die              Travel   \n",
            "\n",
            "    Star_rating  Price     Stock  Quantity  \n",
            "0         Three  51.77  In stock        22  \n",
            "1           One  53.74  In stock        20  \n",
            "2           One  50.10  In stock        20  \n",
            "3          Four  47.82  In stock        20  \n",
            "4          Five  54.23  In stock        20  \n",
            "..          ...    ...       ...       ...  \n",
            "995         One  55.53  In stock         1  \n",
            "996        Four  57.06  In stock         1  \n",
            "997        Five  16.97  In stock         1  \n",
            "998         One  53.98  In stock         1  \n",
            "999        Five  26.08  In stock         1  \n",
            "\n",
            "[1000 rows x 6 columns]\n"
          ]
        }
      ]
    },
    {
      "cell_type": "code",
      "source": [
        "# 2. compute the median price PM of a book\n",
        "PM = df['Price'].median()\n",
        "print(PM)\n"
      ],
      "metadata": {
        "colab": {
          "base_uri": "https://localhost:8080/"
        },
        "id": "7eoLw0tsVlCY",
        "outputId": "bbd223e8-6456-420e-902a-17b72e669ed1"
      },
      "execution_count": null,
      "outputs": [
        {
          "output_type": "stream",
          "name": "stdout",
          "text": [
            "35.980000000000004\n"
          ]
        }
      ]
    },
    {
      "cell_type": "code",
      "source": [
        "# 3. suppose we divide all books into 2 groups: ”cheap” books with prices less than PM \n",
        "# & ”expensive” books with prices more than PM. What is the average price in each group&\n",
        "#what is the median price in group?\n",
        "#Which one is larger for each group.\n",
        "\n",
        "\n",
        "cheap = df[\"Price\"][df['Price']< PM] \n",
        "expensive = df[\"Price\"][df['Price']>PM] \n",
        "\n",
        "print(cheap)\n",
        "print(expensive)\n",
        "\n"
      ],
      "metadata": {
        "colab": {
          "base_uri": "https://localhost:8080/"
        },
        "id": "CwT1RSI0TSBS",
        "outputId": "d9e5caec-3c3e-4f7d-a163-d065b2a82508"
      },
      "execution_count": null,
      "outputs": [
        {
          "output_type": "stream",
          "name": "stdout",
          "text": [
            "5      22.65\n",
            "6      33.34\n",
            "7      17.93\n",
            "8      22.60\n",
            "10     13.99\n",
            "       ...  \n",
            "990    29.82\n",
            "992    20.30\n",
            "993    34.65\n",
            "997    16.97\n",
            "999    26.08\n",
            "Name: Price, Length: 500, dtype: float64\n",
            "0      51.77\n",
            "1      53.74\n",
            "2      50.10\n",
            "3      47.82\n",
            "4      54.23\n",
            "       ...  \n",
            "991    37.26\n",
            "994    43.38\n",
            "995    55.53\n",
            "996    57.06\n",
            "998    53.98\n",
            "Name: Price, Length: 500, dtype: float64\n"
          ]
        }
      ]
    },
    {
      "cell_type": "code",
      "source": [
        "# 4. What is the average price in each group&\n",
        "avg_cheap= cheap.mean()\n",
        "print(\"Average cheap =\", avg_cheap)\n",
        "\n",
        "avg_expensive = expensive.mean()\n",
        "print('Average expensive =',avg_expensive)\n",
        "\n",
        "#what is the median price in group?\n",
        "median_cheap= cheap.median()\n",
        "print(\"Median cheap =\", median_cheap)\n",
        "\n",
        "median_expensive = expensive.median()\n",
        "print('Median expensive =',median_expensive)\n",
        "\n",
        "#Which one is larger for each group.\n",
        "if avg_cheap < median_cheap:\n",
        "    print(\"Mean of cheap book is less than median of cheap books  \\n\")\n",
        "else:\n",
        "    print('Mean of cheap is greater than median of cheap book \\n')\n",
        "if avg_expensive < median_expensive:\n",
        "    print(\"Mean of expensive book is less than median of expensive books  \\n\")\n",
        "else:\n",
        "    print('Mean of expensive book is greater than median of expensive book \\n')"
      ],
      "metadata": {
        "colab": {
          "base_uri": "https://localhost:8080/"
        },
        "id": "9jlJsi8cJzyK",
        "outputId": "2d7af57a-9c05-43b4-cc5e-fd8e181f13e6"
      },
      "execution_count": null,
      "outputs": [
        {
          "output_type": "stream",
          "name": "stdout",
          "text": [
            "Average cheap = 22.558400000000002\n",
            "Average expensive = 47.5823\n",
            "Median cheap = 22.105\n",
            "Median expensive = 47.474999999999994\n",
            "Mean of cheap is greater than median of cheap book \n",
            "\n",
            "Mean of expensive is greater than median of expensive book \n",
            "\n"
          ]
        }
      ]
    },
    {
      "cell_type": "code",
      "source": [
        "# 4.compute average price of a book by Star Rating\n",
        "\n",
        "df=pd.read_csv(\"/content/sample_data/books_scraped.csv\")\n",
        "df1= df[['Price','Star_rating']]\n",
        "#print(df1)\n",
        "\n",
        "avg = df1.groupby('Star_rating').mean()\n",
        "print(\"average price of a book by Star Rating is = \", avg)\n"
      ],
      "metadata": {
        "colab": {
          "base_uri": "https://localhost:8080/"
        },
        "id": "KJuz_i_VNt_w",
        "outputId": "bca84ad7-0ce3-4cd7-fab8-e79843f747de"
      },
      "execution_count": null,
      "outputs": [
        {
          "output_type": "stream",
          "name": "stdout",
          "text": [
            "     Price Star_rating\n",
            "0    51.77       Three\n",
            "1    53.74         One\n",
            "2    50.10         One\n",
            "3    47.82        Four\n",
            "4    54.23        Five\n",
            "..     ...         ...\n",
            "995  55.53         One\n",
            "996  57.06        Four\n",
            "997  16.97        Five\n",
            "998  53.98         One\n",
            "999  26.08        Five\n",
            "\n",
            "[1000 rows x 2 columns]\n",
            "average price of a book by Star Rating is =                   Price\n",
            "Star_rating           \n",
            "Five         35.374490\n",
            "Four         36.093296\n",
            "One          34.561195\n",
            "Three        34.692020\n",
            "Two          34.810918\n"
          ]
        }
      ]
    },
    {
      "cell_type": "code",
      "source": [
        "#5. compute average price of a book by Book Category\n",
        "df2= df[['Price','Book_category']]\n",
        "#print(df2)\n",
        "\n",
        "avg = df2.groupby('Book_category').mean()\n",
        "print(\"average price of a book by Book_category is = \", avg)"
      ],
      "metadata": {
        "colab": {
          "base_uri": "https://localhost:8080/"
        },
        "id": "NMLsmi45Nvxr",
        "outputId": "99335776-6eef-40ae-9e04-db20e1f2fafe"
      },
      "execution_count": null,
      "outputs": [
        {
          "output_type": "stream",
          "name": "stdout",
          "text": [
            "average price of a book by Book_category is =                          Price\n",
            "Book_category                \n",
            "Academic            13.120000\n",
            "Add a comment       35.796418\n",
            "Adult Fiction       15.360000\n",
            "Art                 38.520000\n",
            "Autobiography       37.053333\n",
            "Biography           33.662000\n",
            "Business            32.460000\n",
            "Childrens           32.638276\n",
            "Christian           42.496667\n",
            "Christian Fiction   34.385000\n",
            "Classics            36.545263\n",
            "Contemporary        36.200000\n",
            "Crime               10.970000\n",
            "Cultural            36.580000\n",
            "Default             34.392697\n",
            "Erotica             19.190000\n",
            "Fantasy             39.593958\n",
            "Fiction             36.066615\n",
            "Food and Drink      31.414667\n",
            "Health              51.452500\n",
            "Historical          22.830000\n",
            "Historical Fiction  33.644231\n",
            "History             37.295000\n",
            "Horror              35.949412\n",
            "Humor               33.501000\n",
            "Music               35.636923\n",
            "Mystery             31.719062\n",
            "New Adult           46.383333\n",
            "Nonfiction          34.260182\n",
            "Novels              54.810000\n",
            "Paranormal          15.400000\n",
            "Parenting           37.350000\n",
            "Philosophy          33.558182\n",
            "Poetry              35.974211\n",
            "Politics            53.613333\n",
            "Psychology          34.218571\n",
            "Religion            32.567143\n",
            "Romance             33.933714\n",
            "Science             33.088571\n",
            "Science Fiction     33.802500\n",
            "Self Help           40.620000\n",
            "Sequential Art      34.572267\n",
            "Short Stories       35.880000\n",
            "Spirituality        35.098333\n",
            "Sports and Games    41.166000\n",
            "Suspense            58.330000\n",
            "Thriller            31.433636\n",
            "Travel              39.794545\n",
            "Womens Fiction      36.791176\n",
            "Young Adult         35.449074\n"
          ]
        }
      ]
    },
    {
      "cell_type": "code",
      "source": [
        "# 6. compute average price of a book by Book Category and Star Rating\n",
        "\n",
        "df3= df[['Price','Book_category','Star_rating']]\n",
        "#print(df3)\n",
        "\n",
        "avg = df3.groupby(['Book_category','Star_rating']).mean()\n",
        "print(\"average price of a book by Book_category & Star rating is = \", avg)"
      ],
      "metadata": {
        "colab": {
          "base_uri": "https://localhost:8080/"
        },
        "id": "c55MvOCvN2FB",
        "outputId": "4a0edec2-0b77-43a2-f3a2-ab3270c4f768"
      },
      "execution_count": null,
      "outputs": [
        {
          "output_type": "stream",
          "name": "stdout",
          "text": [
            "average price of a book by Book_category & Star rating is =                                 Price\n",
            "Book_category Star_rating           \n",
            "Academic      Two          13.120000\n",
            "Add a comment Five         36.505000\n",
            "              Four         35.157692\n",
            "              One          36.356875\n",
            "              Three        32.801765\n",
            "...                              ...\n",
            "Young Adult   Five         32.275333\n",
            "              Four         37.550000\n",
            "              One          37.200909\n",
            "              Three        37.210000\n",
            "              Two          33.485714\n",
            "\n",
            "[182 rows x 1 columns]\n"
          ]
        }
      ]
    },
    {
      "cell_type": "code",
      "source": [
        "# 7. assume that Quantity reflects the demand. For each Book Category, \n",
        "# compute the average demand (round the result to integers). \n",
        "# What are the top 3 Book Categories by this criteria?\n",
        "\n",
        "df4= df[['Quantity','Book_category']]\n",
        "print(df4)\n",
        "avg = df4.groupby(['Quantity','Book_category']).mean()\n",
        "print('Average = ', avg)\n",
        "Top = df4.groupby(['Book_category'])['Quantity'].mean().nlargest(3)\n",
        "print(Top)\n"
      ],
      "metadata": {
        "colab": {
          "base_uri": "https://localhost:8080/"
        },
        "id": "gFms8HwJkohV",
        "outputId": "80135e78-f66c-4f04-85c4-6500f914d825"
      },
      "execution_count": null,
      "outputs": [
        {
          "output_type": "stream",
          "name": "stdout",
          "text": [
            "     Quantity       Book_category\n",
            "0          22              Poetry\n",
            "1          20  Historical Fiction\n",
            "2          20             Fiction\n",
            "3          20             Mystery\n",
            "4          20             History\n",
            "..        ...                 ...\n",
            "995         1            Classics\n",
            "996         1      Sequential Art\n",
            "997         1  Historical Fiction\n",
            "998         1             Mystery\n",
            "999         1              Travel\n",
            "\n",
            "[1000 rows x 2 columns]\n",
            "Average =  Empty DataFrame\n",
            "Columns: []\n",
            "Index: [(1, Add a comment), (1, Art), (1, Childrens), (1, Classics), (1, Default), (1, Fantasy), (1, Fiction), (1, Historical Fiction), (1, Music), (1, Mystery), (1, New Adult), (1, Nonfiction), (1, Paranormal), (1, Philosophy), (1, Poetry), (1, Religion), (1, Romance), (1, Science), (1, Science Fiction), (1, Sequential Art), (1, Sports and Games), (1, Travel), (1, Womens Fiction), (1, Young Adult), (2, Add a comment), (2, Childrens), (2, Fiction), (2, Music), (2, Nonfiction), (2, Philosophy), (2, Sequential Art), (2, Sports and Games), (2, Young Adult), (3, Add a comment), (3, Adult Fiction), (3, Autobiography), (3, Biography), (3, Business), (3, Childrens), (3, Christian Fiction), (3, Classics), (3, Contemporary), (3, Default), (3, Fantasy), (3, Fiction), (3, Food and Drink), (3, Historical Fiction), (3, History), (3, Horror), (3, Humor), (3, Mystery), (3, Nonfiction), (3, Parenting), (3, Psychology), (3, Romance), (3, Science), (3, Science Fiction), (3, Sequential Art), (3, Sports and Games), (3, Thriller), (3, Travel), (3, Womens Fiction), (3, Young Adult), (4, Classics), (4, Default), (4, Fantasy), (4, Fiction), (4, Historical Fiction), (4, Horror), (4, Music), (4, Nonfiction), (4, Religion), (4, Romance), (4, Sequential Art), (4, Spirituality), (4, Thriller), (4, Womens Fiction), (4, Young Adult), (5, Academic), (5, Add a comment), (5, Autobiography), (5, Childrens), (5, Classics), (5, Default), (5, Fantasy), (5, Fiction), (5, Food and Drink), (5, Historical Fiction), (5, History), (5, Horror), (5, Music), (5, Nonfiction), (5, Philosophy), (5, Poetry), (5, Romance), (5, Science), (5, Science Fiction), (5, Sequential Art), (5, Thriller), (5, Young Adult), ...]\n",
            "\n",
            "[326 rows x 0 columns]\n",
            "Book_category\n",
            "Crime       15.0\n",
            "Cultural    15.0\n",
            "Erotica     15.0\n",
            "Name: Quantity, dtype: float64\n"
          ]
        }
      ]
    },
    {
      "cell_type": "code",
      "source": [
        "#8. which column is redundant and why?\n",
        "'Stock' column is redundant because we can also figure out if a book is in stock by checking if the value of 'Quantity' is non-zero.\n"
      ],
      "metadata": {
        "id": "rX07UUzMko_j"
      },
      "execution_count": null,
      "outputs": []
    }
  ]
}